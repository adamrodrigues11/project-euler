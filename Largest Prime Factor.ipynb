{
 "cells": [
  {
   "cell_type": "code",
   "execution_count": 8,
   "metadata": {},
   "outputs": [],
   "source": [
    "def is_multiple(num, factor):\n",
    "    \"\"\"\n",
    "    Takes two positive integers num and factor. \n",
    "    \n",
    "    Returns a boolean: \n",
    "    True if num is a multiple of factor;\n",
    "    False otherwise\n",
    "    \"\"\"\n",
    "    return num % factor == 0\n",
    "\n",
    "# def prime_factors(num):\n",
    "#     \"\"\"\n",
    "#     Takes a positive integer num and returns a list of its prime factors. \n",
    "#     \"\"\"\n",
    "#     p_factors = []\n",
    "#     from math import ceil\n",
    "#     for i in range(2, int(ceil(num / 2))):\n",
    "#         if is_multiple(num, i):\n",
    "#             is_prime = True\n",
    "#             for factor in p_factors:\n",
    "#                 if is_multiple(i, factor):\n",
    "#                     is_prime = False\n",
    "#                     break\n",
    "#             if is_prime:\n",
    "#                 p_factors.append(i)\n",
    "#     return p_factors"
   ]
  },
  {
   "cell_type": "markdown",
   "metadata": {},
   "source": [
    "Although this algorithm works, its runtime is too long for the Euler problem. I will try to instead build a sieve function that gives a list of the primes up to num / 2. Then I will test them for in seqeunce."
   ]
  },
  {
   "cell_type": "code",
   "execution_count": 4,
   "metadata": {},
   "outputs": [],
   "source": [
    "def sieve(num):\n",
    "    \"\"\"\n",
    "    Returns a list of the prime numbers less than a positive integer num.\n",
    "    \"\"\"\n",
    "    from math import sqrt, floor\n",
    "    # initialize with list of Booleans for the odd numbers starting at 3 and less than num (initialize as True)\n",
    "    primes = [True for n in range( (num - 3) // 2 + 1)]\n",
    "    # get the index of the largest odd number in primes less than or equal to sqrt(num)\n",
    "    num_sqrt_index = ( floor(sqrt(num)) - 3 ) // 2\n",
    "    # loop through the \"on\" indices and \"turn off\" the indices that correspond to multiples of primes\n",
    "    for i in range(num_sqrt_index + 1):\n",
    "        if primes[i]:\n",
    "            p = (2*i + 3) # odd number corresponding to index i\n",
    "            j = p**2 # start with p^2\n",
    "            while j <= num:\n",
    "                primes[(j-3) // 2] = False\n",
    "                j += 2*p\n",
    "    return [2] + [2*i + 3 for i in range(0, len(primes)) if primes[i]] # return all primes p for indices of True vals           "
   ]
  },
  {
   "cell_type": "markdown",
   "metadata": {},
   "source": [
    "    This sieve still does not give us a list of primes in a desirable runtime. So I searched for a linear runtime sieve algorithm. Here is my attempt to create a function using the algorithm described in https://www.cs.utexas.edu/users/misra/scannedPdf.dir/linearSieve.pdf"
   ]
  },
  {
   "cell_type": "code",
   "execution_count": 5,
   "metadata": {},
   "outputs": [],
   "source": [
    "def lin_sieve(n):\n",
    "    \"\"\"\n",
    "    Linear runtime algorithm that returns a list of the prime numbers less than or equal to n. n >= 4\n",
    "    \n",
    "    Note: The list of numbers that we want to return is initialized to be all the natural numbers from 2 to n.\n",
    "    Then, we systematically remove non-primes, and return the final resulting list of only primes.\n",
    "    \"\"\"\n",
    "    p = 2\n",
    "    primes = [i for i in range(2, n + 1)]\n",
    "    \n",
    "    while p ** 2 <= n: # do not to exceed sqrt(n), just as in sieve of eratosthenes\n",
    "        #cycle through all permissible values for q while holding p fixed and remove non-primes generated\n",
    "        q = p\n",
    "        while p * q <= n:\n",
    "            # define and remove the non-primes, x\n",
    "            x = p * q\n",
    "            while x <= n:\n",
    "                primes.remove(x)\n",
    "                x *= p\n",
    "            q = primes[primes.index(q) + 1] # pick the next element in primes (from q) to be the new value of q\n",
    "        # increment p and do the same for all permissible values of p\n",
    "        p = primes[primes.index(p) + 1] # pick the next element in primes (from p) to be the new value of p\n",
    "    \n",
    "    return primes"
   ]
  },
  {
   "cell_type": "code",
   "execution_count": 6,
   "metadata": {},
   "outputs": [
    {
     "data": {
      "text/plain": [
       "True"
      ]
     },
     "execution_count": 6,
     "metadata": {},
     "output_type": "execute_result"
    }
   ],
   "source": [
    "test = 10000\n",
    "primes_1 = sieve(test)\n",
    "primes_2 = lin_sieve(test)\n",
    "primes_1 == primes_2"
   ]
  },
  {
   "cell_type": "markdown",
   "metadata": {},
   "source": [
    "Although I've built two different generating functions for prime numbers, they both are too slow to solve the problem at hand. A more clever solution would be necessary (honing in on the largest prime factor, specifically). In fact, I'm not sure why, but my linear time sieve algorithm is taking longer to run than the basic sieve of eratoshenes algorithm."
   ]
  },
  {
   "cell_type": "code",
   "execution_count": 15,
   "metadata": {},
   "outputs": [
    {
     "data": {
      "text/plain": [
       "6857.0"
      ]
     },
     "execution_count": 15,
     "metadata": {},
     "output_type": "execute_result"
    }
   ],
   "source": [
    "def prime_factors(n):\n",
    "    \"\"\"Returns all the prime factors of a positive integer\"\"\"\n",
    "    factors = []\n",
    "    d = 2\n",
    "    while n > 1:\n",
    "        while n % d == 0:\n",
    "            factors.append(d)\n",
    "            n /= d\n",
    "        d = d + 1\n",
    "        if d*d > n:\n",
    "            if n > 1: factors.append(n)\n",
    "            break\n",
    "    return factors\n",
    "\n",
    "\n",
    "pfs = prime_factors(600851475143)\n",
    "largest_prime_factor = max(pfs)\n",
    "largest_prime_factor"
   ]
  },
  {
   "cell_type": "markdown",
   "metadata": {},
   "source": [
    "This code was grabbed from stack exchange and made me realize how simply extending an elementary school algorithm of factor trees can be more efficient than fancy algorithms that I find in papers!!"
   ]
  },
  {
   "cell_type": "code",
   "execution_count": 35,
   "metadata": {},
   "outputs": [
    {
     "data": {
      "text/plain": [
       "[7, 11, 11, 13, 89.0]"
      ]
     },
     "execution_count": 35,
     "metadata": {},
     "output_type": "execute_result"
    }
   ],
   "source": [
    "prime_factors(979979)"
   ]
  },
  {
   "cell_type": "code",
   "execution_count": null,
   "metadata": {},
   "outputs": [],
   "source": [
    "lin_sieve()"
   ]
  }
 ],
 "metadata": {
  "kernelspec": {
   "display_name": "Python 3",
   "language": "python",
   "name": "python3"
  },
  "language_info": {
   "codemirror_mode": {
    "name": "ipython",
    "version": 3
   },
   "file_extension": ".py",
   "mimetype": "text/x-python",
   "name": "python",
   "nbconvert_exporter": "python",
   "pygments_lexer": "ipython3",
   "version": "3.7.4"
  }
 },
 "nbformat": 4,
 "nbformat_minor": 2
}
