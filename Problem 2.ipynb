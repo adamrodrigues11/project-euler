{
 "cells": [
  {
   "cell_type": "code",
   "execution_count": 13,
   "metadata": {},
   "outputs": [
    {
     "data": {
      "text/plain": [
       "4613732"
      ]
     },
     "execution_count": 13,
     "metadata": {},
     "output_type": "execute_result"
    }
   ],
   "source": [
    "def fib(upper):\n",
    "    \"\"\"\n",
    "    Takes a positive integer greater than or equal to 2 called upper, and returns a list of the terms in the \n",
    "    Fibonacci sequence whose values are less than or equal to upper.\n",
    "    \"\"\"\n",
    "    # initialize list/cache of terms\n",
    "    fib_list = [1,2]\n",
    "    i = 1\n",
    "    \n",
    "    # I couldn't think of a more elegant way to keep the computational time O(n) and a better upper bound in the while\n",
    "    # loop such that I would avoid the if statement below\n",
    "    \n",
    "    # while last cached term is less than or equal to upper bound, cache the next term\n",
    "    while fib_list[-1] <= upper:\n",
    "        fib_list.append(fib_list[i-1] + fib_list[i])\n",
    "        i += 1\n",
    "    # if the last cached term is greater than the upper bound, pop it out of the cache\n",
    "    if fib_list[-1] > upper:\n",
    "        fib_list.pop()\n",
    "    return fib_list\n",
    "\n",
    "# list comp to generate sub-list of even fibonacci terms and sum\n",
    "sum_evens = sum([n for n in fib(4000000) if n % 2 == 0])\n",
    "sum_evens"
   ]
  }
 ],
 "metadata": {
  "kernelspec": {
   "display_name": "Python 3",
   "language": "python",
   "name": "python3"
  },
  "language_info": {
   "codemirror_mode": {
    "name": "ipython",
    "version": 3
   },
   "file_extension": ".py",
   "mimetype": "text/x-python",
   "name": "python",
   "nbconvert_exporter": "python",
   "pygments_lexer": "ipython3",
   "version": "3.7.4"
  }
 },
 "nbformat": 4,
 "nbformat_minor": 2
}
