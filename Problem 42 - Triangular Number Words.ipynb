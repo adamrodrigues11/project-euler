{
 "cells": [
  {
   "cell_type": "code",
   "execution_count": 22,
   "metadata": {},
   "outputs": [
    {
     "data": {
      "text/plain": [
       "162"
      ]
     },
     "execution_count": 22,
     "metadata": {},
     "output_type": "execute_result"
    }
   ],
   "source": [
    "# open the text file and format into a list of the words as a list of strings\n",
    "with open('words.txt') as w:\n",
    "    words = w.read().replace('\"','').lower().split(\",\")\n",
    "\n",
    "# Set values for letters\n",
    "from string import ascii_lowercase\n",
    "letters = list(ascii_lowercase)\n",
    "\n",
    "letter_vals = {}\n",
    "k = 1\n",
    "for letter in letters:\n",
    "    letter_vals[letter] = k\n",
    "    k += 1\n",
    "\n",
    "# check the length of the longest word\n",
    "lengths = [len(words[i]) for i in range(len(words))]\n",
    "max_length = max(lengths)\n",
    "    \n",
    "# determine upper bound of value of words, based on longest word in the list and highest value char (z)\n",
    "max_val = 26 * max_length\n",
    "\n",
    "# create list of triangular numbers less than or equal to max_val\n",
    "def tri_num(n):\n",
    "    return (n * (n + 1) ) // 2\n",
    "tri_nums = []\n",
    "n = 1\n",
    "while tri_num(n) <= max_val:\n",
    "    tri_nums.append(tri_num(n))\n",
    "    n += 1\n",
    "\n",
    "# Compute the values of the words in the list of words given according to the dict\n",
    "word_vals = []\n",
    "for word in words:\n",
    "    word_val = sum([letter_vals[char] for char in word])\n",
    "    word_vals.append(word_val)\n",
    "# return a Boolean list where True if the word value is a triangular number\n",
    "# sum the Boolean list to see total number of \"triangular words\"\n",
    "total_tri_words = sum([word_val in tri_nums for word_val in word_vals])\n",
    "total_tri_words"
   ]
  },
  {
   "cell_type": "code",
   "execution_count": null,
   "metadata": {},
   "outputs": [],
   "source": []
  }
 ],
 "metadata": {
  "kernelspec": {
   "display_name": "Python 3",
   "language": "python",
   "name": "python3"
  },
  "language_info": {
   "codemirror_mode": {
    "name": "ipython",
    "version": 3
   },
   "file_extension": ".py",
   "mimetype": "text/x-python",
   "name": "python",
   "nbconvert_exporter": "python",
   "pygments_lexer": "ipython3",
   "version": "3.7.4"
  }
 },
 "nbformat": 4,
 "nbformat_minor": 2
}
