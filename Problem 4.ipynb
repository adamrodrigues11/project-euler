{
 "cells": [
  {
   "cell_type": "code",
   "execution_count": 12,
   "metadata": {},
   "outputs": [],
   "source": [
    "def is_palindrome(num):\n",
    "    \"\"\"\n",
    "    Returns a True if a positive integer num is a palindrome, False otherwise.\n",
    "    \"\"\"\n",
    "    forward = str(num)\n",
    "    reverse = [n for n in forward]\n",
    "    for i in range(len(reverse) // 2):\n",
    "        reverse[i], reverse[-1 - i] = reverse[-1 - i], reverse[i]\n",
    "    return forward == \"\".join(reverse)"
   ]
  },
  {
   "cell_type": "code",
   "execution_count": 14,
   "metadata": {},
   "outputs": [
    {
     "data": {
      "text/plain": [
       "(993, 913, 906609)"
      ]
     },
     "execution_count": 14,
     "metadata": {},
     "output_type": "execute_result"
    }
   ],
   "source": [
    "def find_max_palindrome(num):\n",
    "    \"\"\"\n",
    "    Find the greatest palindrome formed by the product of two factors whose greatest possible value can be num.\n",
    "    \n",
    "    Returns a tuple of the factors and the palindrome product.\n",
    "    \"\"\"\n",
    "    from math import ceil\n",
    "\n",
    "    for n in range(num + 1):\n",
    "        if n % 2 == 0:\n",
    "            p = num - ( n // 2 )\n",
    "            q = p\n",
    "        else:\n",
    "            p = num - ( n // 2 )\n",
    "            q = num - ceil( n / 2)\n",
    "        while p <= num:\n",
    "            if is_palindrome(p * q):\n",
    "                return (p, q, p * q)\n",
    "            p += 1\n",
    "            q -= 1\n",
    "\n",
    "find_max_palindrome(999)"
   ]
  }
 ],
 "metadata": {
  "kernelspec": {
   "display_name": "Python 3",
   "language": "python",
   "name": "python3"
  },
  "language_info": {
   "codemirror_mode": {
    "name": "ipython",
    "version": 3
   },
   "file_extension": ".py",
   "mimetype": "text/x-python",
   "name": "python",
   "nbconvert_exporter": "python",
   "pygments_lexer": "ipython3",
   "version": "3.7.4"
  }
 },
 "nbformat": 4,
 "nbformat_minor": 2
}
