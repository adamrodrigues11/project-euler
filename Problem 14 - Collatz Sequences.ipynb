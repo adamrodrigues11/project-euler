{
 "cells": [
  {
   "cell_type": "code",
   "execution_count": 56,
   "metadata": {},
   "outputs": [
    {
     "name": "stdout",
     "output_type": "stream",
     "text": [
      "1 [1]\n",
      "2 [2, 1]\n",
      "3 [3, 10, 5, 16, 8, 4, 2, 1]\n",
      "4 [4, 2, 1]\n",
      "5 [5, 16, 8, 4, 2, 1]\n",
      "6 [6, 3, 10, 5, 16, 8, 4, 2, 1]\n",
      "7 [7, 22, 11, 34, 17, 52, 26, 13, 40, 20, 10, 5, 16, 8, 4, 2, 1]\n",
      "8 [8, 4, 2, 1]\n",
      "9 [9, 28, 14, 7, 22, 11, 34, 17, 52, 26, 13, 40, 20, 10, 5, 16, 8, 4, 2, 1]\n",
      "10 [10, 5, 16, 8, 4, 2, 1]\n",
      "11 [11, 34, 17, 52, 26, 13, 40, 20, 10, 5, 16, 8, 4, 2, 1]\n",
      "12 [12, 6, 3, 10, 5, 16, 8, 4, 2, 1]\n",
      "13 [13, 40, 20, 10, 5, 16, 8, 4, 2, 1]\n",
      "14 [14, 7, 22, 11, 34, 17, 52, 26, 13, 40, 20, 10, 5, 16, 8, 4, 2, 1]\n",
      "15 [15, 46, 23, 70, 35, 106, 53, 160, 80, 40, 20, 10, 5, 16, 8, 4, 2, 1]\n",
      "16 [16, 8, 4, 2, 1]\n",
      "17 [17, 52, 26, 13, 40, 20, 10, 5, 16, 8, 4, 2, 1]\n",
      "18 [18, 9, 28, 14, 7, 22, 11, 34, 17, 52, 26, 13, 40, 20, 10, 5, 16, 8, 4, 2, 1]\n",
      "19 [19, 58, 29, 88, 44, 22, 11, 34, 17, 52, 26, 13, 40, 20, 10, 5, 16, 8, 4, 2, 1]\n",
      "20 [20, 10, 5, 16, 8, 4, 2, 1]\n"
     ]
    }
   ],
   "source": [
    "def collatz(n):\n",
    "    \"\"\"\n",
    "    Returns a list of the terms in the Collatz Sequence starting from a positive integer n.\n",
    "    \"\"\"\n",
    "    seq = [n]\n",
    "    if n == 1:\n",
    "        return seq\n",
    "    \n",
    "    while n > 1:\n",
    "        if n % 2 == 0:\n",
    "            seq.append(n // 2)\n",
    "        else:\n",
    "            seq.append(3 * n + 1)\n",
    "        n = seq[-1]\n",
    "    return seq\n",
    "\n",
    "for i in range(1, 21):\n",
    "    print(i, collatz(i))"
   ]
  },
  {
   "cell_type": "code",
   "execution_count": 57,
   "metadata": {},
   "outputs": [],
   "source": [
    "# def longest_collatz(num):\n",
    "#     \"\"\"\n",
    "#     Returns pos int start that produces the longest collatz sequence with starting number less than num,\n",
    "#     but greater than the previous known longest collatz seqeuence starting number previous.\n",
    "#     \"\"\"\n",
    "#     longest = collatz(num - 1)\n",
    "#     for i in range(num - 1, 1, -1):\n",
    "#         if i not in longest:\n",
    "#             new = [i]\n",
    "#             while new[-1] not in longest:\n",
    "#                 if new[-1] % 2 == 0:\n",
    "#                     new.append(new[-1] // 2)\n",
    "#                 else:\n",
    "#                     new.append(3 * new[-1] + 1)\n",
    "#             new = new + longest[longest.index(new[-1]):]\n",
    "#             if len(new) > len(longest):\n",
    "#                 longest = new\n",
    "#     return longest[0]\n",
    "\n",
    "# longest_collatz(70000,35655)"
   ]
  },
  {
   "cell_type": "code",
   "execution_count": 69,
   "metadata": {},
   "outputs": [
    {
     "data": {
      "text/plain": [
       "837799"
      ]
     },
     "execution_count": 69,
     "metadata": {},
     "output_type": "execute_result"
    }
   ],
   "source": [
    "def longest_collatz(num):\n",
    "    lengths = []\n",
    "    for i in range(num):\n",
    "        lengths.append(len(collatz(i)))\n",
    "    return lengths.index(max(lengths))\n",
    "\n",
    "longest_collatz(1000000)"
   ]
  }
 ],
 "metadata": {
  "kernelspec": {
   "display_name": "Python 3",
   "language": "python",
   "name": "python3"
  },
  "language_info": {
   "codemirror_mode": {
    "name": "ipython",
    "version": 3
   },
   "file_extension": ".py",
   "mimetype": "text/x-python",
   "name": "python",
   "nbconvert_exporter": "python",
   "pygments_lexer": "ipython3",
   "version": "3.7.4"
  }
 },
 "nbformat": 4,
 "nbformat_minor": 2
}
