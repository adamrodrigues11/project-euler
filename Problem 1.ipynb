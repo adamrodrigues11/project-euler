{
 "cells": [
  {
   "cell_type": "code",
   "execution_count": 2,
   "metadata": {},
   "outputs": [],
   "source": [
    "import math"
   ]
  },
  {
   "cell_type": "code",
   "execution_count": 3,
   "metadata": {},
   "outputs": [],
   "source": [
    "def is_multiple(num, factors):\n",
    "    \"\"\"\n",
    "    Takes a positive integer num and a non-empty list factors. \n",
    "    \n",
    "    Returns a boolean: \n",
    "    True if num is a multiple of all the numbers in factors;\n",
    "    False otherwise\n",
    "    \"\"\"\n",
    "    for factor in factors:\n",
    "        if num % factor != 0:\n",
    "            return False\n",
    "    return True\n",
    "\n",
    "def test_is_multiple():\n",
    "    \n",
    "    assert is_multiple(12,[5,3]) == False\n",
    "    assert is_multiple(15,[5,3,1]) == True\n",
    "    assert is_multiple(6,[3]) == True\n",
    "\n",
    "test_is_multiple()"
   ]
  },
  {
   "cell_type": "code",
   "execution_count": 5,
   "metadata": {},
   "outputs": [
    {
     "data": {
      "text/plain": [
       "233168"
      ]
     },
     "execution_count": 5,
     "metadata": {},
     "output_type": "execute_result"
    }
   ],
   "source": [
    "sum_total = sum([num for num in range(1000) if ( is_multiple(num,[3]) or is_multiple(num,[5]) )])\n",
    "sum_total"
   ]
  },
  {
   "cell_type": "markdown",
   "metadata": {},
   "source": [
    "Although I originally read this question incorrectly as a \"Fizzbang\" sum and not a \"Bang OR Fizz\" sum, I decided to keep the is_multiple function that I built for handling a list of several factors since it may come in handy again. Even though it isn't the most transparent one-line solution using the helper function, I wanted to practice my list comprehensions and thought that this could be a good opportunity to condense some code."
   ]
  }
 ],
 "metadata": {
  "kernelspec": {
   "display_name": "Python 3",
   "language": "python",
   "name": "python3"
  },
  "language_info": {
   "codemirror_mode": {
    "name": "ipython",
    "version": 3
   },
   "file_extension": ".py",
   "mimetype": "text/x-python",
   "name": "python",
   "nbconvert_exporter": "python",
   "pygments_lexer": "ipython3",
   "version": "3.7.4"
  }
 },
 "nbformat": 4,
 "nbformat_minor": 2
}
