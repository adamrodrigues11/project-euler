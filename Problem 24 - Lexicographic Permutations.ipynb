{
 "cells": [
  {
   "cell_type": "code",
   "execution_count": 17,
   "metadata": {},
   "outputs": [
    {
     "data": {
      "text/plain": [
       "[12,\n",
       " 13,\n",
       " 21,\n",
       " 23,\n",
       " 31,\n",
       " 32,\n",
       " 102,\n",
       " 103,\n",
       " 120,\n",
       " 123,\n",
       " 130,\n",
       " 132,\n",
       " 201,\n",
       " 203,\n",
       " 210,\n",
       " 213,\n",
       " 230,\n",
       " 231,\n",
       " 301,\n",
       " 302,\n",
       " 310,\n",
       " 312,\n",
       " 320,\n",
       " 321]"
      ]
     },
     "execution_count": 17,
     "metadata": {},
     "output_type": "execute_result"
    }
   ],
   "source": [
    "# my first attempt using nested for loops\n",
    "def lex(digits):\n",
    "    \"\"\"\n",
    "    Returns a list of lexicographic permutations of an input list of digits.\n",
    "    \"\"\"\n",
    "    digits.sort()\n",
    "    \n",
    "    permutations = []\n",
    "    \n",
    "    for i in digits:\n",
    "        remaining = digits.copy()\n",
    "        remaining.remove(i)\n",
    "        for j in remaining:\n",
    "            remaining2 = remaining.copy()\n",
    "            remaining2.remove(j)\n",
    "            for k in remaining2:\n",
    "                permutations.append(i * 100 + j * 10 + k)\n",
    "    return permutations\n",
    "\n",
    "test = [0, 1, 2, 3]\n",
    "lex(test)"
   ]
  },
  {
   "cell_type": "code",
   "execution_count": 46,
   "metadata": {},
   "outputs": [
    {
     "data": {
      "text/plain": [
       "(2, 7, 8, 3, 9, 1, 5, 4, 6, 0)"
      ]
     },
     "execution_count": 46,
     "metadata": {},
     "output_type": "execute_result"
    }
   ],
   "source": [
    "# better yet, use an existing function from the itertools module\n",
    "from itertools import permutations\n",
    "    \n",
    "digits = [k for k in range(10)]\n",
    "perm = [i for i in permutations(digits)]\n",
    "    \n",
    "perm[999999]"
   ]
  },
  {
   "cell_type": "code",
   "execution_count": 19,
   "metadata": {},
   "outputs": [
    {
     "name": "stdout",
     "output_type": "stream",
     "text": [
      "Help on class permutations in module itertools:\n",
      "\n",
      "class permutations(builtins.object)\n",
      " |  permutations(iterable[, r]) --> permutations object\n",
      " |  \n",
      " |  Return successive r-length permutations of elements in the iterable.\n",
      " |  \n",
      " |  permutations(range(3), 2) --> (0,1), (0,2), (1,0), (1,2), (2,0), (2,1)\n",
      " |  \n",
      " |  Methods defined here:\n",
      " |  \n",
      " |  __getattribute__(self, name, /)\n",
      " |      Return getattr(self, name).\n",
      " |  \n",
      " |  __iter__(self, /)\n",
      " |      Implement iter(self).\n",
      " |  \n",
      " |  __next__(self, /)\n",
      " |      Implement next(self).\n",
      " |  \n",
      " |  __reduce__(...)\n",
      " |      Return state information for pickling.\n",
      " |  \n",
      " |  __setstate__(...)\n",
      " |      Set state information for unpickling.\n",
      " |  \n",
      " |  __sizeof__(...)\n",
      " |      Returns size in memory, in bytes.\n",
      " |  \n",
      " |  ----------------------------------------------------------------------\n",
      " |  Static methods defined here:\n",
      " |  \n",
      " |  __new__(*args, **kwargs) from builtins.type\n",
      " |      Create and return a new object.  See help(type) for accurate signature.\n",
      "\n"
     ]
    }
   ],
   "source": [
    "from itertools import permutations\n",
    "help(permutations)"
   ]
  },
  {
   "cell_type": "code",
   "execution_count": 43,
   "metadata": {},
   "outputs": [
    {
     "name": "stdout",
     "output_type": "stream",
     "text": [
      "[[4, 3, 2, 1], [0, 1, 2, 3], (0, 1, 2, 3)]\n",
      "[[4, 3, 1, 1], [0, 1, 3, 2], (0, 1, 3, 2)]\n",
      "[[4, 2, 2, 1], [0, 2, 1, 3], (0, 2, 1, 3)]\n",
      "[[4, 2, 1, 1], [0, 2, 3, 1], (0, 2, 3, 1)]\n",
      "[[4, 1, 2, 1], [0, 3, 1, 2], (0, 3, 1, 2)]\n",
      "[[4, 1, 1, 1], [0, 3, 2, 1], (0, 3, 2, 1)]\n",
      "[[3, 3, 2, 1], [1, 0, 2, 3], (1, 0, 2, 3)]\n",
      "[[3, 3, 1, 1], [1, 0, 3, 2], (1, 0, 3, 2)]\n",
      "[[3, 2, 2, 1], [1, 2, 0, 3], (1, 2, 0, 3)]\n",
      "[[3, 2, 1, 1], [1, 2, 3, 0], (1, 2, 3, 0)]\n",
      "[[3, 1, 2, 1], [1, 3, 0, 2], (1, 3, 0, 2)]\n",
      "[[3, 1, 1, 1], [1, 3, 2, 0], (1, 3, 2, 0)]\n",
      "[[2, 3, 2, 1], [2, 0, 1, 3], (2, 0, 1, 3)]\n",
      "[[2, 3, 1, 1], [2, 0, 3, 1], (2, 0, 3, 1)]\n",
      "[[2, 2, 2, 1], [2, 1, 0, 3], (2, 1, 0, 3)]\n",
      "[[2, 2, 1, 1], [2, 1, 3, 0], (2, 1, 3, 0)]\n",
      "[[2, 1, 2, 1], [2, 3, 0, 1], (2, 3, 0, 1)]\n",
      "[[2, 1, 1, 1], [2, 3, 1, 0], (2, 3, 1, 0)]\n",
      "[[1, 3, 2, 1], [3, 0, 1, 2], (3, 0, 1, 2)]\n",
      "[[1, 3, 1, 1], [3, 0, 2, 1], (3, 0, 2, 1)]\n",
      "[[1, 2, 2, 1], [3, 1, 0, 2], (3, 1, 0, 2)]\n",
      "[[1, 2, 1, 1], [3, 1, 2, 0], (3, 1, 2, 0)]\n",
      "[[1, 1, 2, 1], [3, 2, 0, 1], (3, 2, 0, 1)]\n",
      "[[1, 1, 1, 1], [3, 2, 1, 0], (3, 2, 1, 0)]\n",
      "(0, 1, 2, 3)\n",
      "(0, 1, 3, 2)\n",
      "(0, 2, 1, 3)\n",
      "(0, 2, 3, 1)\n",
      "(0, 3, 1, 2)\n",
      "(0, 3, 2, 1)\n",
      "(1, 0, 2, 3)\n",
      "(1, 0, 3, 2)\n",
      "(1, 2, 0, 3)\n",
      "(1, 2, 3, 0)\n",
      "(1, 3, 0, 2)\n",
      "(1, 3, 2, 0)\n",
      "(2, 0, 1, 3)\n",
      "(2, 0, 3, 1)\n",
      "(2, 1, 0, 3)\n",
      "(2, 1, 3, 0)\n",
      "(2, 3, 0, 1)\n",
      "(2, 3, 1, 0)\n",
      "(3, 0, 1, 2)\n",
      "(3, 0, 2, 1)\n",
      "(3, 1, 0, 2)\n",
      "(3, 1, 2, 0)\n",
      "(3, 2, 0, 1)\n",
      "(3, 2, 1, 0)\n"
     ]
    }
   ],
   "source": [
    "# Me trying to understand the source code of the itertools permutations function by printing the cycles and indices\n",
    "# lists at each yield\n",
    "\n",
    "# from itertools (n permuate r)\n",
    "def permutations2(iterable, r=None):\n",
    "    # permutations('ABCD', 2) --> AB AC AD BA BC BD CA CB CD DA DB DC\n",
    "    # permutations(range(3)) --> 012 021 102 120 201 210\n",
    "    pool = tuple(iterable)\n",
    "    n = len(pool)\n",
    "    r = n if r is None else r # set the value of r \n",
    "    if r > n: # return None if r is larger than n\n",
    "        return\n",
    "    indices = [k for k in range(n)]   # index the pool of objects\n",
    "    cycles = [m for m in range(n, n-r, -1)]   # create a cycles tracker\n",
    "    yield [cycles, indices, tuple(pool[i] for i in indices[:r])]  # yield the original first r objects of the pool\n",
    "    while n: # only do if pool is non-empty\n",
    "        for i in reversed(range(r)):\n",
    "            cycles[i] -= 1 \n",
    "            if cycles[i] == 0:\n",
    "                indices[i:] = indices[i+1:] + indices[i:i+1] # shift indeces left cyclically\n",
    "                cycles[i] = n - i\n",
    "            else:\n",
    "                j = cycles[i]\n",
    "                indices[i], indices[-j] = indices[-j], indices[i] # swap indices\n",
    "                yield [cycles, indices, tuple(pool[i] for i in indices[:r])] # yield re-indexed pool as a tuple for each re-indexing\n",
    "                break\n",
    "        else: # return None if pool is empty\n",
    "            return\n",
    "\n",
    "test = [0, 1, 2, 3]\n",
    "perm = permutations2(test)\n",
    "for i in perm:\n",
    "    print(i)\n",
    "\n",
    "from itertools import permutations\n",
    "perm_std = permutations(test)\n",
    "for i in perm_std:\n",
    "    print(i)"
   ]
  }
 ],
 "metadata": {
  "kernelspec": {
   "display_name": "Python 3",
   "language": "python",
   "name": "python3"
  },
  "language_info": {
   "codemirror_mode": {
    "name": "ipython",
    "version": 3
   },
   "file_extension": ".py",
   "mimetype": "text/x-python",
   "name": "python",
   "nbconvert_exporter": "python",
   "pygments_lexer": "ipython3",
   "version": "3.7.4"
  }
 },
 "nbformat": 4,
 "nbformat_minor": 2
}
